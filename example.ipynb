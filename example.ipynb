{
 "metadata": {
  "name": "example"
 },
 "nbformat": 3,
 "nbformat_minor": 0,
 "worksheets": [
  {
   "cells": [
    {
     "cell_type": "code",
     "collapsed": false,
     "input": [
      "from pyo import *\n",
      "\n",
      "s = Server().boot()\n",
      "s.start()\n",
      "wav = SquareTable()\n",
      "env = CosTable([(0,0), (100,1), (500,.3), (8191,0)])\n",
      "met = Metro(.125, 12).play()\n",
      "amp = TrigEnv(met, table=env, mul=.1)\n",
      "pit = TrigXnoiseMidi(met, dist='loopseg', x1=20, scale=1, mrange=(48,84))\n",
      "out = OscLoop(table=wav, freq=pit, mul=amp).out()"
     ],
     "language": "python",
     "metadata": {},
     "outputs": []
    },
    {
     "cell_type": "code",
     "collapsed": false,
     "input": [
      "s.stop()"
     ],
     "language": "python",
     "metadata": {},
     "outputs": []
    }
   ],
   "metadata": {}
  }
 ]
}